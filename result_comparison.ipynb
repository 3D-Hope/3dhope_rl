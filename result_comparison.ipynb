{
 "cells": [
  {
   "cell_type": "code",
   "execution_count": 1,
   "id": "ded63a9d",
   "metadata": {},
   "outputs": [],
   "source": [
    "import os\n",
    "\n",
    "result_dir = \"/media/ajad/YourBook/AshokSaugatResearchBackup/AshokSaugatResearch/steerable-scene-generation/outputs/2025-10-12\""
   ]
  },
  {
   "cell_type": "code",
   "execution_count": 2,
   "id": "54958975",
   "metadata": {},
   "outputs": [],
   "source": [
    "from PIL import Image\n",
    "import matplotlib.pyplot as plt"
   ]
  },
  {
   "cell_type": "code",
   "execution_count": 8,
   "id": "cf598603",
   "metadata": {},
   "outputs": [],
   "source": [
    "def compare_results(result_dir, id=None):\n",
    "    from PIL import ImageOps\n",
    "\n",
    "    fig, ax = plt.subplots(2, 2, figsize=(20, 12))  # Made figure size significantly bigger\n",
    "    file_name = None\n",
    "\n",
    "    # Adjust padding to better fit the larger figure, could be tweaked as needed\n",
    "    plt.subplots_adjust(wspace=0.2, hspace=0.3, left=0.07, right=0.95, top=0.85, bottom=0.05)\n",
    "\n",
    "    border_width = 8  # You can increase or decrease as necessary\n",
    "    border_color = 'black'  # Color of the border\n",
    "\n",
    "    for file in os.listdir(os.path.join(result_dir, \"baseline_ddpm\")):\n",
    "        if file.endswith(\".png\"):\n",
    "            # Plot image\n",
    "            if id is not None:\n",
    "                if str(id) in file:\n",
    "                    file_name = file\n",
    "                    img = Image.open(os.path.join(result_dir, \"baseline_ddpm\", file))\n",
    "                    img = ImageOps.expand(img, border=border_width, fill=border_color)\n",
    "                    ax[0, 0].imshow(img)\n",
    "                    ax[0, 0].set_title(\"baseline_ddpm\", pad=12)\n",
    "                    ax[0, 0].axis(\"off\")\n",
    "                    break\n",
    "    for file in os.listdir(os.path.join(result_dir, \"baseline_ddim\")):\n",
    "        if file.endswith(\".png\"):\n",
    "            # Plot image\n",
    "            if id is not None:\n",
    "                if str(id) in file:\n",
    "                    img = Image.open(os.path.join(result_dir, \"baseline_ddim\", file))\n",
    "                    img = ImageOps.expand(img, border=border_width, fill=border_color)\n",
    "                    ax[0, 1].imshow(img)\n",
    "                    ax[0, 1].set_title(\"baseline_ddim\", pad=12)\n",
    "                    ax[0, 1].axis(\"off\")\n",
    "                    break\n",
    "    for file in os.listdir(os.path.join(result_dir, \"rl_ddpm\")):\n",
    "        if file.endswith(\".png\"):\n",
    "            # Plot image\n",
    "            if id is not None:\n",
    "                if str(id) in file:\n",
    "                    img = Image.open(os.path.join(result_dir, \"rl_ddpm\", file))\n",
    "                    img = ImageOps.expand(img, border=border_width, fill=border_color)\n",
    "                    ax[1, 0].imshow(img)\n",
    "                    ax[1, 0].set_title(\"rl_ddpm\", pad=12)\n",
    "                    ax[1, 0].axis(\"off\")\n",
    "                    break\n",
    "    for file in os.listdir(os.path.join(result_dir, \"rl_ddim\")):\n",
    "        if file.endswith(\".png\"):\n",
    "            # Plot image\n",
    "            if id is not None:\n",
    "                if str(id) in file:\n",
    "                    img = Image.open(os.path.join(result_dir, \"rl_ddim\", file))\n",
    "                    img = ImageOps.expand(img, border=border_width, fill=border_color)\n",
    "                    ax[1, 1].imshow(img)\n",
    "                    ax[1, 1].set_title(\"rl_ddim\", pad=12)\n",
    "                    ax[1, 1].axis(\"off\")\n",
    "                    break\n",
    "\n",
    "    # Add extra padding above the suptitle\n",
    "    fig.suptitle(f\"Comparison of {file_name}\", fontsize=16, y=1.05)\n",
    "    save_dir = \"/media/ajad/YourBook/AshokSaugatResearchBackup/AshokSaugatResearch/steerable-scene-generation/comparisons\"\n",
    "    os.makedirs(save_dir, exist_ok=True)\n",
    "    plt.savefig(os.path.join(save_dir, f\"comparison_{file_name}\"))\n",
    "    plt.close()\n",
    "    # plt.show()\n",
    "\n",
    "# compare_results(result_dir, \"0000\")\n",
    "\n",
    "for i in range(100):\n",
    "    compare_results(result_dir, str(i).zfill(4))\n"
   ]
  }
 ],
 "metadata": {
  "kernelspec": {
   "display_name": "steerable-scene-generation-py3.10 (3.10.18)",
   "language": "python",
   "name": "python3"
  },
  "language_info": {
   "codemirror_mode": {
    "name": "ipython",
    "version": 3
   },
   "file_extension": ".py",
   "mimetype": "text/x-python",
   "name": "python",
   "nbconvert_exporter": "python",
   "pygments_lexer": "ipython3",
   "version": "3.10.18"
  }
 },
 "nbformat": 4,
 "nbformat_minor": 5
}
